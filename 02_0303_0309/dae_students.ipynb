{
 "cells": [
  {
   "cell_type": "markdown",
   "metadata": {},
   "source": [
    "# Anti Money Laundering Dataset EDA Exercises\n",
    "\n",
    "### Beginner Level\n",
    "\n",
    "1. **Basic Data Inspection**\n",
    "   - Load the dataset into a DataFrame.\n",
    "   - Display the first five rows of the dataset.\n",
    "   - Check the data types of each column.\n",
    "\n",
    "2. **Missing Values Check**\n",
    "   - Identify and count the number of missing values in each column.\n",
    "   - Create a visualization (e.g., bar chart) showing the number of missing values for each column.\n",
    "\n",
    "3. **Summary Statistics**\n",
    "   - Generate summary statistics for numerical columns (`Amount`).\n",
    "   - Calculate the unique values for categorical columns (`Payment_currency`, `Received_currency`, `Payment_type`).\n",
    "\n",
    "### Intermediate Level\n",
    "\n",
    "4. **Time Series Analysis**\n",
    "   - Convert the `Date` column to a datetime format.\n",
    "   - Create a time series plot showing the total transaction amount over time.\n",
    "\n",
    "5. **Transaction Patterns**\n",
    "   - Analyze the transaction amounts by `Payment_type`. Which type has the highest average transaction amount?\n",
    "   - Create a visualization (e.g., box plot) to show the distribution of transaction amounts for each payment type.\n",
    "\n",
    "6. **Geographical Analysis**\n",
    "   - Analyze the distribution of transactions based on `Sender_bank_location` and `Receiver_bank_location`.\n",
    "   - Create a heatmap to visualize the number of transactions between different locations.\n",
    "\n",
    "### Advanced Level\n",
    "\n",
    "7. **Laundering Analysis**\n",
    "   - Calculate the proportion of transactions marked as `Is_laundering`.\n",
    "   - Create a bar chart comparing the count of transactions for each `Laundering_type`.\n",
    "\n",
    "8. **Correlation Analysis**\n",
    "   - Calculate the correlation matrix for numerical columns.\n",
    "   - Create a heatmap to visualize the correlation between different numerical features.\n",
    "\n",
    "9. **Hypothesis Testing**\n",
    "   - Formulate a hypothesis regarding the relationship between `Payment_type` and `Is_laundering`.\n",
    "   - Conduct a chi-square test to determine if there is a significant association between the two variables.\n"
   ]
  },
  {
   "cell_type": "code",
   "execution_count": null,
   "metadata": {},
   "outputs": [],
   "source": [
    "# Importing necessary libraries\n",
    "import pandas as pd\n",
    "import matplotlib.pyplot as plt\n",
    "import seaborn as sns\n",
    "from datetime import datetime\n",
    "from sklearn.model_selection import train_test_split\n",
    "from sklearn.ensemble import RandomForestClassifier\n",
    "from sklearn.preprocessing import OneHotEncoder, StandardScaler\n",
    "from sklearn.metrics import classification_report\n",
    "from scipy.stats import chi2_contingency\n",
    "\n",
    "# Load the dataset\n",
    "data = pd.read_csv('./data.csv')  # Replace with your dataset path"
   ]
  }
 ],
 "metadata": {
  "kernelspec": {
   "display_name": "Python 3",
   "language": "python",
   "name": "python3"
  },
  "language_info": {
   "codemirror_mode": {
    "name": "ipython",
    "version": 3
   },
   "file_extension": ".py",
   "mimetype": "text/x-python",
   "name": "python",
   "nbconvert_exporter": "python",
   "pygments_lexer": "ipython3",
   "version": "3.12.3"
  }
 },
 "nbformat": 4,
 "nbformat_minor": 2
}
