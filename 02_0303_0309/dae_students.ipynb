{
 "cells": [
  {
   "cell_type": "markdown",
   "metadata": {},
   "source": [
    "# Anti Money Laundering Dataset EDA Exercises"
   ]
  },
  {
   "cell_type": "code",
   "execution_count": null,
   "metadata": {},
   "outputs": [],
   "source": [
    "# Importing necessary libraries\n",
    "import pandas as pd\n",
    "import matplotlib.pyplot as plt\n",
    "import seaborn as sns\n",
    "from datetime import datetime\n",
    "from sklearn.model_selection import train_test_split\n",
    "from sklearn.ensemble import RandomForestClassifier\n",
    "from sklearn.preprocessing import OneHotEncoder, StandardScaler\n",
    "from sklearn.metrics import classification_report\n",
    "from scipy.stats import chi2_contingency\n",
    "\n",
    "# Load the dataset\n",
    "data = pd.read_csv(\"./data.csv\")  # Replace with your dataset path"
   ]
  },
  {
   "cell_type": "markdown",
   "metadata": {},
   "source": [
    "## Beginner Level"
   ]
  },
  {
   "cell_type": "markdown",
   "metadata": {},
   "source": [
    "### 1. Basic Data Inspection\n",
    "- Load the dataset into a DataFrame.\n",
    "- Display the first five rows of the dataset.\n",
    "- Check the data types of each column."
   ]
  },
  {
   "cell_type": "code",
   "execution_count": null,
   "metadata": {},
   "outputs": [],
   "source": [
    "# Caricare il dataset\n",
    "df = pd.read_csv(\"data.csv\")\n",
    "\n",
    "# Visualizzare le prime 5 righe\n",
    "display(df.head())\n",
    "\n",
    "# Controllare i tipi di dati\n",
    "display(df.info())"
   ]
  },
  {
   "cell_type": "markdown",
   "metadata": {},
   "source": [
    "### 2. Missing Values Check\n",
    "- Identify and count the number of missing values in each column.\n",
    "- Create a visualization (e.g., bar chart) showing the number of missing values for each column."
   ]
  },
  {
   "cell_type": "code",
   "execution_count": null,
   "metadata": {},
   "outputs": [],
   "source": [
    "# Contare i valori mancanti per ogni colonna\n",
    "missing_values = df.isnull().sum()\n",
    "\n",
    "# Visualizzare i valori mancanti\n",
    "plt.figure(figsize=(10, 5))\n",
    "sns.barplot(x=missing_values.index, y=missing_values.values)\n",
    "plt.xticks(rotation=90)\n",
    "plt.title(\"Missing Values per Column\")\n",
    "plt.show()\n",
    "\n",
    "# Stampare i valori mancanti\n",
    "print(missing_values)"
   ]
  },
  {
   "cell_type": "markdown",
   "metadata": {},
   "source": [
    "### 3. Summary Statistics\n",
    "- Generate summary statistics for numerical columns (`Amount`).\n",
    "- Calculate the unique values for categorical columns (`Payment_currency`, `Received_currency`, `Payment_type`)."
   ]
  },
  {
   "cell_type": "code",
   "execution_count": null,
   "metadata": {},
   "outputs": [],
   "source": [
    "# Statistiche descrittive per colonne numeriche\n",
    "display(df.describe())\n",
    "\n",
    "# Conteggio dei valori unici per colonne categoriali\n",
    "categorical_columns = [\"Payment_currency\", \"Received_currency\", \"Payment_type\"]\n",
    "unique_values = {col: df[col].nunique() for col in categorical_columns}\n",
    "print(\"Numero di valori unici per colonna categoriale:\", unique_values)"
   ]
  },
  {
   "cell_type": "markdown",
   "metadata": {},
   "source": [
    "## Intermediate Level"
   ]
  },
  {
   "cell_type": "markdown",
   "metadata": {},
   "source": [
    "### 4. Time Series Analysis\n",
    "- Convert the `Date` column to a datetime format.\n",
    "- Create a time series plot showing the total transaction amount over time."
   ]
  },
  {
   "cell_type": "code",
   "execution_count": null,
   "metadata": {},
   "outputs": [],
   "source": [
    "# Convertire la colonna Date in formato datetime\n",
    "df[\"Date\"] = pd.to_datetime(df[\"Date\"])\n",
    "\n",
    "# Raggruppare per data e sommare gli importi delle transazioni\n",
    "df_grouped = df.groupby(\"Date\")[\"Amount\"].sum()\n",
    "\n",
    "# Creare un grafico temporale\n",
    "plt.figure(figsize=(12, 6))\n",
    "df_grouped.plot(title=\"Total Transaction Amount Over Time\")\n",
    "plt.xlabel(\"Date\")\n",
    "plt.ylabel(\"Total Amount\")\n",
    "plt.show()"
   ]
  },
  {
   "cell_type": "markdown",
   "metadata": {},
   "source": [
    "### 5. Transaction Patterns\n",
    "- Analyze the transaction amounts by `Payment_type`. Which type has the highest average transaction amount?\n",
    "- Create a visualization (e.g., box plot) to show the distribution of transaction amounts for each payment type."
   ]
  },
  {
   "cell_type": "code",
   "execution_count": null,
   "metadata": {},
   "outputs": [],
   "source": [
    "# Calcolare la media degli importi per tipo di pagamento\n",
    "payment_avg = df.groupby(\"Payment_type\")[\"Amount\"].mean()\n",
    "display(payment_avg)\n",
    "\n",
    "# Creare un boxplot degli importi per tipo di pagamento\n",
    "plt.figure(figsize=(12, 6))\n",
    "sns.boxplot(x=\"Payment_type\", y=\"Amount\", data=df)\n",
    "plt.xticks(rotation=90)\n",
    "plt.title(\"Transaction Amount Distribution by Payment Type\")\n",
    "plt.show()"
   ]
  },
  {
   "cell_type": "markdown",
   "metadata": {},
   "source": [
    "### 6. Geographical Analysis\n",
    "- Analyze the distribution of transactions based on `Sender_bank_location` and `Receiver_bank_location`.\n",
    "- Create a heatmap to visualize the number of transactions between different locations."
   ]
  },
  {
   "cell_type": "code",
   "execution_count": null,
   "metadata": {},
   "outputs": [],
   "source": [
    "# Creare una matrice delle transazioni tra diverse località bancarie\n",
    "geo_counts = (\n",
    "    df.groupby([\"Sender_bank_location\", \"Receiver_bank_location\"]).size().unstack()\n",
    ")\n",
    "\n",
    "# Creare una heatmap delle transazioni tra località\n",
    "plt.figure(figsize=(12, 6))\n",
    "sns.heatmap(geo_counts, cmap=\"Blues\", linewidths=0.5)\n",
    "plt.title(\"Transaction Count Between Locations\")\n",
    "plt.show()"
   ]
  },
  {
   "cell_type": "markdown",
   "metadata": {},
   "source": [
    "## Advanced Level"
   ]
  },
  {
   "cell_type": "markdown",
   "metadata": {},
   "source": [
    "### 7. Laundering Analysis\n",
    "- Calculate the proportion of transactions marked as `Is_laundering`.\n",
    "- Create a bar chart comparing the count of transactions for each `Laundering_type`."
   ]
  },
  {
   "cell_type": "code",
   "execution_count": null,
   "metadata": {},
   "outputs": [],
   "source": [
    "# Calcolare la proporzione di transazioni marcate come riciclaggio\n",
    "laundering_ratio = df[\"Is_laundering\"].mean()\n",
    "print(f\"Percentuale di transazioni sospette: {laundering_ratio:.2%}\")\n",
    "\n",
    "# Creare un grafico a barre per confrontare le transazioni normali e sospette\n",
    "plt.figure(figsize=(8, 5))\n",
    "sns.countplot(x=\"Is_laundering\", data=df)\n",
    "plt.title(\"Laundering vs Normal Transactions\")\n",
    "plt.xticks([0, 1], [\"Normal\", \"Laundering\"])\n",
    "plt.show()"
   ]
  },
  {
   "cell_type": "markdown",
   "metadata": {},
   "source": [
    "### 8. Correlation Analysis\n",
    "- Calculate the correlation matrix for numerical columns.\n",
    "- Create a heatmap to visualize the correlation between different numerical features."
   ]
  },
  {
   "cell_type": "code",
   "execution_count": null,
   "metadata": {},
   "outputs": [],
   "source": [
    "# Calcolare la matrice di correlazione\n",
    "corr_matrix = df.select_dtypes(include=[\"number\"]).corr()\n",
    "\n",
    "# Creare una heatmap della matrice di correlazione\n",
    "plt.figure(figsize=(10, 6))\n",
    "sns.heatmap(corr_matrix, annot=True, cmap=\"coolwarm\", linewidths=0.5)\n",
    "plt.title(\"Correlation Heatmap\")\n",
    "plt.show()"
   ]
  },
  {
   "cell_type": "markdown",
   "metadata": {},
   "source": [
    "### 9. Hypothesis Testing\n",
    "- Formulate a hypothesis regarding the relationship between `Payment_type` and `Is_laundering`.\n",
    "- Conduct a chi-square test to determine if there is a significant association between the two variables."
   ]
  },
  {
   "cell_type": "code",
   "execution_count": null,
   "metadata": {},
   "outputs": [],
   "source": [
    "from scipy.stats import chi2_contingency\n",
    "\n",
    "# Creare la tabella di contingenza tra Payment_type e Is_laundering\n",
    "contingency_table = pd.crosstab(df[\"Payment_type\"], df[\"Is_laundering\"])\n",
    "\n",
    "# Eseguire il test del chi-quadrato\n",
    "chi2, p, _, _ = chi2_contingency(contingency_table)\n",
    "\n",
    "# Stampare il risultato\n",
    "print(f\"P-value del test chi-quadrato: {p}\")\n",
    "if p < 0.05:\n",
    "    print(\"Esiste una relazione significativa tra Payment_type e Is_laundering.\")\n",
    "else:\n",
    "    print(\"Non esiste una relazione significativa tra Payment_type e Is_laundering.\")"
   ]
  }
 ],
 "metadata": {
  "kernelspec": {
   "display_name": "Python 3",
   "language": "python",
   "name": "python3"
  },
  "language_info": {
   "codemirror_mode": {
    "name": "ipython",
    "version": 3
   },
   "file_extension": ".py",
   "mimetype": "text/x-python",
   "name": "python",
   "nbconvert_exporter": "python",
   "pygments_lexer": "ipython3",
   "version": "3.12.3"
  }
 },
 "nbformat": 4,
 "nbformat_minor": 2
}
