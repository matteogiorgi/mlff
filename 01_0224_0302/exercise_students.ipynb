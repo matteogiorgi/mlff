{
  "nbformat": 4,
  "nbformat_minor": 0,
  "metadata": {
    "colab": {
      "provenance": []
    },
    "kernelspec": {
      "name": "python3",
      "display_name": "Python 3"
    },
    "language_info": {
      "name": "python"
    }
  },
  "cells": [
    {
      "cell_type": "markdown",
      "source": [
        "The first thing we do is importing several Python libraries that we need to do the exercise. There are:\n",
        "\n",
        "\n",
        "1.   **Pandas** library (pd). It is used for working with data sets and has functions for analyzing, cleaning, exploring, and manipulating data. Pandas stands for Python Data Analysis\n",
        "2.   **NumPy** library (np). It is used for working with arrays and has functions for working in domain of linear algebra, fourier transform, and matrices.\n",
        "3.  **Matplotlib** libary. It is used to create graphs and plots by using Python scripts. It has a module named pyplot (plt) which makes things easy for plotting by providing feature to control line styles, font properties, formatting axes etc.\n",
        "4. **Seaborn** library (sns). It is a Python data visualization library based on matplotlib and provides a high-level interface for drawing attractive and informative statistical graphics.\n",
        "5. **Regular Expression** module (re). It is a sequence characters that forms a search pattern and can be used to check if a string contains the specified search pattern.\n"
      ],
      "metadata": {
        "id": "3X7LDnkXU4fG"
      }
    },
    {
      "cell_type": "code",
      "execution_count": null,
      "metadata": {
        "id": "5Xti9WN5UUbs"
      },
      "outputs": [],
      "source": [
        "import pandas as pd\n",
        "import numpy as np\n",
        "import matplotlib.pyplot as plt\n",
        "import seaborn as sns\n",
        "import re\n",
        "sns.set()"
      ]
    },
    {
      "cell_type": "code",
      "source": [
        "#import the datasets we will use # TO BE USED FOR EX 1 to 8\n",
        "df_hotels = pd.read_csv('https://raw.githubusercontent.com/rfordatascience/tidytuesday/master/data/2020/2020-02-11/hotels.csv')\n",
        "\n",
        "# The dataset doesn’t have unique identifier column, so we add the ‘id’ column as a unique identifier. Here is the code we can use:\n",
        "df_hotels = df_hotels.reset_index().rename(columns={'index':'id'})\n",
        "\n",
        "\n",
        "\n",
        "#load the country dataset ### TO BE USED FOR EX 9 and 10\n",
        "df_country = pd.read_csv('https://gist.githubusercontent.com/tadast/8827699/raw/f5cac3d42d16b78348610fc4ec301e9234f82821/countries_codes_and_coordinates.csv')\n",
        "df_country['code'] = df_country['Alpha-3 code'].str.replace('\"','').str.strip()\n",
        "\n",
        "\n"
      ],
      "metadata": {
        "id": "VE4IeAzfU2bj"
      },
      "execution_count": null,
      "outputs": []
    },
    {
      "cell_type": "markdown",
      "source": [
        "Now it is time for some exercises. Answer the following problems.\n",
        "\n",
        "## EXERCISE 1\n",
        "\n",
        "Create a function with one argument formed in DataFrame to check the data type, the number of null values, the percentage of null values and the number of unique values for each column.\n",
        "\n",
        "\n",
        "## EXCERCISE 2\n",
        "How many visitors are there who cancel the reservation and who don’t? And from that number draw conclusions about the proportions of each.\n",
        "\n",
        "## EXCERCISE 3\n",
        "\n",
        "*   For “City Hotel”, what is the percentage of canceled reservations?\n",
        "*   For “Resort Hotel”, what is the percentage of canceled reservations?\n",
        "*   What type of hotel that has the bigger percentage of canceled reservations?\n",
        "\n",
        "\n",
        "## EXCERCISE 4\n",
        "Filter data so that it only displays the visitors who don’t cancel the reservation and save the result in df_checkout variable.\n",
        "\n",
        "## EXCERCISE 5\n",
        "\n",
        "*   Show the number of reservations per month of arrival for each type of hotel!\n",
        "*   Then in which month there are the most reservations in each type of hotel? Make a conclusion whether the trend is the same in both types of hotels?\n",
        "*    Do as the previous point but with the name of the month that has been mapped into months in numbers.\n",
        "\n",
        "note: for this and subsequent questions will use the ***df_checkout*** dataframe.\n",
        "\n",
        "## EXCERCISE 6\n",
        "\n",
        "*  Create a new column named arrival_date which contains complete information about the year, month, and date of arrival (example: 2022-12-27)\n",
        "*  Change the column to datetime type\n",
        "\n",
        "\n",
        "## EXCERCISE 7\n",
        "\n",
        "Create a dataframe containing:\n",
        "*   Daily reservation (df_daily_reservation)\n",
        "\n",
        "## EXCERCISE 8\n",
        "\n",
        "* What is the average ADR (Average Daily Rate) based on hotel type and customer type?\n",
        "* Which type of customer has the highest the average of ADR in each type of hotel?\n",
        "\n",
        "## EXCERCISE 9\n",
        "\n",
        "By using the ‘df_country’ dataframe which contains the country name and country code information, show the 10 countries with the largest number of reservations. (P.S. you need to combine this dataframe with another right one)\n",
        "\n",
        "## EXERCISE 10\n",
        "\n",
        "* How many average guests stay for each reservation?\n",
        "* Based on the dataset, what is the highest number of guests? Also show the reservation data row that has the highest number of guests.\n",
        "\n",
        "\n"
      ],
      "metadata": {
        "id": "zZwFAw3HVshH"
      }
    },
    {
      "cell_type": "markdown",
      "source": [
        "# Answers"
      ],
      "metadata": {
        "id": "_zrOmnVhWDOI"
      }
    }
  ]
}