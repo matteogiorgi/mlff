{
  "cells": [
    {
      "cell_type": "markdown",
      "metadata": {
        "id": "3X7LDnkXU4fG"
      },
      "source": [
        "# Python exercises\n",
        "The first thing we do is importing several Python libraries that we need to do the exercise. There are:\n",
        "\n",
        "\n",
        "1. **Pandas** library (pd). It is used for working with data sets and has functions for analyzing, cleaning, exploring, and manipulating data. Pandas stands for Python Data Analysis\n",
        "2. **NumPy** library (np). It is used for working with arrays and has functions for working in domain of linear algebra, fourier transform, and matrices.\n",
        "3. **Matplotlib** libary. It is used to create graphs and plots by using Python scripts. It has a module named pyplot (plt) which makes things easy for plotting by providing feature to control line styles, font properties, formatting axes etc.\n",
        "4. **Seaborn** library (sns). It is a Python data visualization library based on matplotlib and provides a high-level interface for drawing attractive and informative statistical graphics.\n",
        "5. **Regular Expression** module (re). It is a sequence characters that forms a search pattern and can be used to check if a string contains the specified search pattern.\n"
      ]
    },
    {
      "cell_type": "code",
      "execution_count": null,
      "metadata": {
        "id": "5Xti9WN5UUbs"
      },
      "outputs": [],
      "source": [
        "import pandas as pd\n",
        "import numpy as np\n",
        "import matplotlib.pyplot as plt\n",
        "import seaborn as sns\n",
        "import ace_tools as tools\n",
        "import re\n",
        "\n",
        "sns.set()\n",
        "\n",
        "# import the datasets we will use (ex 1 to 8)\n",
        "df_hotels = pd.read_csv(\n",
        "    \"https://raw.githubusercontent.com/rfordatascience/tidytuesday/master/data/2020/2020-02-11/hotels.csv\"\n",
        ")\n",
        "\n",
        "# add the 'id' column as a unique identifier\n",
        "df_hotels = df_hotels.reset_index().rename(columns={\"index\": \"id\"})\n",
        "\n",
        "# load the country dataset (ex 9 and 10)\n",
        "df_country = pd.read_csv(\n",
        "    \"https://gist.githubusercontent.com/tadast/8827699/raw/f5cac3d42d16b78348610fc4ec301e9234f82821/countries_codes_and_coordinates.csv\"\n",
        ")\n",
        "\n",
        "# add the 'code\n",
        "df_country[\"code\"] = df_country[\"Alpha-3 code\"].str.replace('\"', \"\").str.strip()"
      ]
    },
    {
      "cell_type": "markdown",
      "metadata": {},
      "source": [
        "## Exercise 1\n",
        "\n",
        "Create a function with one argument formed in DataFrame to check the data type, the number of null values, the percentage of null values and the number of unique values for each column."
      ]
    },
    {
      "cell_type": "code",
      "execution_count": null,
      "metadata": {},
      "outputs": [],
      "source": [
        "def dataframe_summary(df):\n",
        "    summary = pd.DataFrame(\n",
        "        {\n",
        "            \"Data Type\": df.dtypes,\n",
        "            \"Null Values\": df.isnull().sum(),\n",
        "            \"Null Percentage\": (df.isnull().sum() / len(df)) * 100,\n",
        "            \"Unique Values\": df.nunique(),\n",
        "        }\n",
        "    )\n",
        "    return summary\n",
        "\n",
        "\n",
        "summary_df = dataframe_summary(df_hotels)\n",
        "print(summary_df)"
      ]
    },
    {
      "cell_type": "markdown",
      "metadata": {},
      "source": [
        "## Exercise 2\n",
        "How many visitors are there who cancel the reservation and who don’t? And from that number draw conclusions about the proportions of each."
      ]
    },
    {
      "cell_type": "code",
      "execution_count": null,
      "metadata": {},
      "outputs": [],
      "source": [
        "def cancellation_summary(df, cancellation_column):\n",
        "    cancellation_counts = df[cancellation_column].value_counts()\n",
        "    total = cancellation_counts.sum()\n",
        "    cancellation_percentages = (cancellation_counts / total) * 100\n",
        "    summary = pd.DataFrame(\n",
        "        {\"Count\": cancellation_counts, \"Percentage\": cancellation_percentages}\n",
        "    )\n",
        "    return summary\n",
        "\n",
        "\n",
        "summary_df = cancellation_summary(df_hotels, \"is_canceled\")\n",
        "print(summary_df)"
      ]
    },
    {
      "cell_type": "markdown",
      "metadata": {},
      "source": [
        "## Exercise 3\n",
        "*   For “City Hotel”, what is the percentage of canceled reservations?\n",
        "*   For “Resort Hotel”, what is the percentage of canceled reservations?\n",
        "*   What type of hotel that has the bigger percentage of canceled reservations?"
      ]
    },
    {
      "cell_type": "code",
      "execution_count": null,
      "metadata": {},
      "outputs": [],
      "source": [
        "def hotel_cancellation_rate(df, hotel_column, cancellation_column):\n",
        "    cancellation_summary = df.groupby(hotel_column)[cancellation_column].mean() * 100\n",
        "    return cancellation_summary\n",
        "\n",
        "\n",
        "cancellation_rates = hotel_cancellation_rate(df_hotels, \"hotel\", \"is_canceled\")\n",
        "print(cancellation_rates)\n",
        "\n",
        "most_canceled_hotel = cancellation_rates.idxmax()\n",
        "highest_percentage = cancellation_rates.max()\n",
        "print(\n",
        "    f\"The hotel type with the highest cancellation rate is: {most_canceled_hotel} with {highest_percentage:.2f}% cancellations.\"\n",
        ")"
      ]
    },
    {
      "cell_type": "markdown",
      "metadata": {},
      "source": [
        "## Exercise 4\n",
        "Filter data so that it only displays the visitors who don’t cancel the reservation and save the result in df_checkout variable."
      ]
    },
    {
      "cell_type": "code",
      "execution_count": null,
      "metadata": {},
      "outputs": [],
      "source": [
        "df_checkout = df_hotels[df_hotels[\"is_canceled\"] == 0]\n",
        "print(df_checkout.head())"
      ]
    },
    {
      "cell_type": "markdown",
      "metadata": {},
      "source": [
        "## Exercise 5\n",
        "* Show the number of reservations per month of arrival for each type of hotel!\n",
        "* Then in which month there are the most reservations in each type of hotel? Make a conclusion whether the trend is the same in both types of hotels?\n",
        "* Do as the previous point but with the name of the month that has been mapped into months in numbers.\n",
        "\n",
        "note: for this and subsequent questions will use the ***df_checkout*** dataframe."
      ]
    },
    {
      "cell_type": "code",
      "execution_count": null,
      "metadata": {},
      "outputs": [],
      "source": [
        "monthly_reservations = (\n",
        "    df_checkout.groupby([\"hotel\", \"arrival_date_month\"]).size().unstack()\n",
        ")\n",
        "print(monthly_reservations)\n",
        "\n",
        "most_reservations = monthly_reservations.idxmax(axis=1)\n",
        "print(\"\\nMonth with the highest number of reservations for each hotel type:\")\n",
        "print(most_reservations)\n",
        "\n",
        "month_mapping = {\n",
        "    \"January\": 1,\n",
        "    \"February\": 2,\n",
        "    \"March\": 3,\n",
        "    \"April\": 4,\n",
        "    \"May\": 5,\n",
        "    \"June\": 6,\n",
        "    \"July\": 7,\n",
        "    \"August\": 8,\n",
        "    \"September\": 9,\n",
        "    \"October\": 10,\n",
        "    \"November\": 11,\n",
        "    \"December\": 12,\n",
        "}\n",
        "\n",
        "df_checkout[\"arrival_date_month_num\"] = df_checkout[\"arrival_date_month\"].map(\n",
        "    month_mapping\n",
        ")\n",
        "monthly_reservations_num = (\n",
        "    df_checkout.groupby([\"hotel\", \"arrival_date_month_num\"]).size().unstack()\n",
        ")\n",
        "print(\"\\nReservations per month (numeric format):\")\n",
        "print(monthly_reservations_num)\n",
        "\n",
        "monthly_reservations.T.plot(kind=\"bar\", figsize=(12, 6), alpha=0.7)\n",
        "plt.xlabel(\"Month\")\n",
        "plt.ylabel(\"Number of Reservations\")\n",
        "plt.title(\"Reservations per Month for Each Hotel Type\")\n",
        "plt.legend(title=\"Hotel Type\")\n",
        "plt.xticks(rotation=45)\n",
        "plt.show()"
      ]
    },
    {
      "cell_type": "markdown",
      "metadata": {},
      "source": [
        "## Exercise 6\n",
        "* Create a new column named arrival_date which contains complete information about the year, month, and date of arrival (example: 2022-12-27)\n",
        "* Change the column to datetime type"
      ]
    },
    {
      "cell_type": "code",
      "execution_count": null,
      "metadata": {},
      "outputs": [],
      "source": [
        "month_mapping = {\n",
        "    \"January\": 1,\n",
        "    \"February\": 2,\n",
        "    \"March\": 3,\n",
        "    \"April\": 4,\n",
        "    \"May\": 5,\n",
        "    \"June\": 6,\n",
        "    \"July\": 7,\n",
        "    \"August\": 8,\n",
        "    \"September\": 9,\n",
        "    \"October\": 10,\n",
        "    \"November\": 11,\n",
        "    \"December\": 12,\n",
        "}\n",
        "\n",
        "df_checkout[\"arrival_date_month_num\"] = df_checkout[\"arrival_date_month\"].map(\n",
        "    month_mapping\n",
        ")\n",
        "df_checkout[\"arrival_date\"] = pd.to_datetime(\n",
        "    df_checkout[\n",
        "        [\"arrival_date_year\", \"arrival_date_month_num\", \"arrival_date_day_of_month\"]\n",
        "    ]\n",
        ")\n",
        "print(\n",
        "    df_checkout[\n",
        "        [\n",
        "            \"arrival_date_year\",\n",
        "            \"arrival_date_month\",\n",
        "            \"arrival_date_day_of_month\",\n",
        "            \"arrival_date\",\n",
        "        ]\n",
        "    ].head()\n",
        ")"
      ]
    },
    {
      "cell_type": "markdown",
      "metadata": {},
      "source": [
        "## Exercise 7\n",
        "Create a dataframe containing:\n",
        "* Daily reservation (df_daily_reservation)"
      ]
    },
    {
      "cell_type": "code",
      "execution_count": null,
      "metadata": {},
      "outputs": [],
      "source": [
        "df_daily_reservation = (\n",
        "    df_checkout.groupby(\"arrival_date\").size().reset_index(name=\"num_reservations\")\n",
        ")\n",
        "print(df_daily_reservation.head())\n",
        "\n",
        "tools.display_dataframe_to_user(\n",
        "    name=\"Daily Reservations\", dataframe=df_daily_reservation\n",
        ")"
      ]
    },
    {
      "cell_type": "markdown",
      "metadata": {},
      "source": [
        "## Exercise 8\n",
        "* What is the average ADR (Average Daily Rate) based on hotel type and customer type?\n",
        "* Which type of customer has the highest the average of ADR in each type of hotel?"
      ]
    },
    {
      "cell_type": "code",
      "execution_count": null,
      "metadata": {},
      "outputs": [],
      "source": [
        "adr_summary = (\n",
        "    df_checkout.groupby([\"hotel\", \"customer_type\"])[\"adr\"].mean().reset_index()\n",
        ")\n",
        "highest_adr_per_hotel = adr_summary.loc[adr_summary.groupby(\"hotel\")[\"adr\"].idxmax()]\n",
        "print(\"Average ADR per hotel and customer type:\")\n",
        "print(adr_summary)\n",
        "print(\"\\nCustomer type with highest ADR in each hotel:\")\n",
        "print(highest_adr_per_hotel)\n",
        "\n",
        "tools.display_dataframe_to_user(name=\"ADR Summary\", dataframe=adr_summary)\n",
        "tools.display_dataframe_to_user(\n",
        "    name=\"Highest ADR per Hotel\", dataframe=highest_adr_per_hotel\n",
        ")"
      ]
    },
    {
      "cell_type": "markdown",
      "metadata": {},
      "source": [
        "## Exercise 9\n",
        "By using the ‘df_country’ dataframe which contains the country name and country code information, show the 10 countries with the largest number of reservations. (P.S. you need to combine this dataframe with another right one)"
      ]
    },
    {
      "cell_type": "code",
      "execution_count": null,
      "metadata": {},
      "outputs": [],
      "source": [
        "df_merged = df_checkout.merge(\n",
        "    df_country, left_on=\"country\", right_on=\"code\", how=\"left\"\n",
        ")\n",
        "country_reservations = (\n",
        "    df_merged.groupby(\"country_name\").size().reset_index(name=\"num_reservations\")\n",
        ")\n",
        "\n",
        "top_10_countries = country_reservations.sort_values(\n",
        "    by=\"num_reservations\", ascending=False\n",
        ").head(10)\n",
        "print(\"Top 10 countries with the largest number of reservations:\")\n",
        "print(top_10_countries)\n",
        "\n",
        "tools.display_dataframe_to_user(name=\"Top 10 Countries\", dataframe=top_10_countries)"
      ]
    },
    {
      "cell_type": "markdown",
      "metadata": {},
      "source": [
        "## Exercise 10\n",
        "* How many average guests stay for each reservation?\n",
        "* Based on the dataset, what is the highest number of guests? Also show the reservation data row that has the highest number of guests."
      ]
    },
    {
      "cell_type": "code",
      "execution_count": null,
      "metadata": {},
      "outputs": [],
      "source": [
        "df_checkout[\"total_guests\"] = (\n",
        "    df_checkout[\"adults\"]\n",
        "    + df_checkout[\"children\"].fillna(0)\n",
        "    + df_checkout[\"babies\"].fillna(0)\n",
        ")\n",
        "average_guests = df_checkout[\"total_guests\"].mean()\n",
        "max_guests = df_checkout[\"total_guests\"].max()\n",
        "max_guests_row = df_checkout[df_checkout[\"total_guests\"] == max_guests]\n",
        "\n",
        "print(f\"Average number of guests per reservation: {average_guests:.2f}\")\n",
        "print(f\"Highest number of guests in a single reservation: {max_guests}\")\n",
        "print(\"\\nReservation with the highest number of guests:\")\n",
        "print(max_guests_row)\n",
        "\n",
        "tools.display_dataframe_to_user(\n",
        "    name=\"Reservation with Highest Guests\", dataframe=max_guests_row\n",
        ")"
      ]
    }
  ],
  "metadata": {
    "colab": {
      "provenance": []
    },
    "kernelspec": {
      "display_name": "Python 3",
      "name": "python3"
    },
    "language_info": {
      "codemirror_mode": {
        "name": "ipython",
        "version": 3
      },
      "file_extension": ".py",
      "mimetype": "text/x-python",
      "name": "python",
      "nbconvert_exporter": "python",
      "pygments_lexer": "ipython3",
      "version": "3.12.3"
    }
  },
  "nbformat": 4,
  "nbformat_minor": 0
}
