{
 "cells": [
  {
   "cell_type": "markdown",
   "metadata": {
    "id": "FEYPAuooDOI8"
   },
   "source": [
    "# Lab 1: Introduction to Numpy\n",
    "\n",
    "In this first lesson, we familiarize with an important data-science library: <a href=\"./product/download.html\" target=\"_top\">numpy</a>. <br>\n",
    "Numpy allows you to work with *arrays* and *matrices* easily, and it offers several already-implemented functions. <br>\n",
    "As the developers say \"NumPy is the fundamental package for scientific computing in Python. It is a Python library that provides a multidimensional array object, various derived objects (such as masked arrays and matrices), and an assortment of routines for fast operations on arrays, including mathematical, logical, shape manipulation, sorting, selecting, I/O, discrete Fourier transforms, basic linear algebra, basic statistical operations, random simulation and much more\"  \n",
    "-https://docs.scipy.org/doc/numpy-1.10.1/user/whatisnumpy.html.\n",
    "\n",
    "The lesson is organized as follows:\n",
    "\n",
    "\n",
    "1.   Overview to numpy functionalities\n",
    "2.   Exercises\n",
    "\n",
    "\n",
    "\n"
   ]
  },
  {
   "cell_type": "markdown",
   "metadata": {
    "id": "41-p3lyIkI1Y"
   },
   "source": [
    "# Part 1: Introduction to numpy"
   ]
  },
  {
   "cell_type": "markdown",
   "metadata": {
    "id": "2K3Hdi0okgp1"
   },
   "source": [
    "We need to import the library. By default, the numpy library is already installed in Google Colab Notebook. <br>\n",
    "Usually, we rename the numpy library as *np*: this notation is widely used in most online repositories."
   ]
  },
  {
   "cell_type": "code",
   "execution_count": 1,
   "metadata": {
    "executionInfo": {
     "elapsed": 1,
     "status": "ok",
     "timestamp": 1708951893338,
     "user": {
      "displayName": "Luca Pajola",
      "userId": "01981195232181443728"
     },
     "user_tz": -60
    },
    "id": "LfauBJbJDFt0"
   },
   "outputs": [],
   "source": [
    "import numpy as np"
   ]
  },
  {
   "cell_type": "markdown",
   "metadata": {
    "id": "2sxMXf8Pk_nQ"
   },
   "source": [
    "Numpy is also very efficient.\n",
    "Let's run through an example showing how powerful NumPy is. Suppose we have two lists a and b, consisting of the first 100,000 non-negative numbers, and we want to create a new list c whose ith element is a[i] + 2 * b[i].\n",
    "\n",
    "Without NumPy:"
   ]
  },
  {
   "cell_type": "code",
   "execution_count": 2,
   "metadata": {
    "colab": {
     "base_uri": "https://localhost:8080/"
    },
    "executionInfo": {
     "elapsed": 269,
     "status": "ok",
     "timestamp": 1708951897022,
     "user": {
      "displayName": "Luca Pajola",
      "userId": "01981195232181443728"
     },
     "user_tz": -60
    },
    "id": "zJbtnu2yk8q6",
    "outputId": "1626f95a-34dd-49c8-9c7f-bd556c9d1c2a"
   },
   "outputs": [
    {
     "name": "stdout",
     "output_type": "stream",
     "text": [
      "CPU times: user 2.86 ms, sys: 7.47 ms, total: 10.3 ms\n",
      "Wall time: 21.3 ms\n"
     ]
    }
   ],
   "source": [
    "%%time\n",
    "#if you write the previous line in your cell, it prints you the execution time\n",
    "\n",
    "##generate a list of numbers [0: 10000[\n",
    "a = list(range(100000))\n",
    "b = list(range(100000))"
   ]
  },
  {
   "cell_type": "code",
   "execution_count": null,
   "metadata": {
    "colab": {
     "base_uri": "https://localhost:8080/"
    },
    "executionInfo": {
     "elapsed": 1403,
     "status": "ok",
     "timestamp": 1708951900522,
     "user": {
      "displayName": "Luca Pajola",
      "userId": "01981195232181443728"
     },
     "user_tz": -60
    },
    "id": "95J6V9Z1lF8O",
    "outputId": "20ec6fda-960f-4904-b6a9-b9a2a728fba4"
   },
   "outputs": [
    {
     "name": "stdout",
     "output_type": "stream",
     "text": [
      "CPU times: user 514 ms, sys: 23.1 ms, total: 537 ms\n",
      "Wall time: 1.3 s\n"
     ]
    }
   ],
   "source": [
    "%%time\n",
    "\n",
    "#we do some operations between the two lists:\n",
    "# c = a + 2 * b\n",
    "for _ in range(10):\n",
    "    c = []\n",
    "    for i in range(len(a)):\n",
    "        c.append(a[i] + 2 * b[i])"
   ]
  },
  {
   "cell_type": "markdown",
   "metadata": {
    "id": "VNhfR4s8ltGX"
   },
   "source": [
    "We now do the same with Numpy."
   ]
  },
  {
   "cell_type": "code",
   "execution_count": null,
   "metadata": {
    "colab": {
     "base_uri": "https://localhost:8080/"
    },
    "executionInfo": {
     "elapsed": 269,
     "status": "ok",
     "timestamp": 1704188257271,
     "user": {
      "displayName": "Luca Pajola",
      "userId": "01981195232181443728"
     },
     "user_tz": -60
    },
    "id": "XuLoaop1lwPy",
    "outputId": "656ef85c-9798-47b8-e735-8c4a23c63341"
   },
   "outputs": [
    {
     "name": "stdout",
     "output_type": "stream",
     "text": [
      "CPU times: user 462 µs, sys: 1.73 ms, total: 2.2 ms\n",
      "Wall time: 1.31 ms\n"
     ]
    }
   ],
   "source": [
    "%%time\n",
    "a = np.arange(100000)\n",
    "b = np.arange(100000)"
   ]
  },
  {
   "cell_type": "code",
   "execution_count": null,
   "metadata": {
    "colab": {
     "base_uri": "https://localhost:8080/"
    },
    "executionInfo": {
     "elapsed": 240,
     "status": "ok",
     "timestamp": 1704188261045,
     "user": {
      "displayName": "Luca Pajola",
      "userId": "01981195232181443728"
     },
     "user_tz": -60
    },
    "id": "Zq1B0WG3lzsM",
    "outputId": "3e4c837e-656b-4be2-e89d-bfb806ba8d03"
   },
   "outputs": [
    {
     "name": "stdout",
     "output_type": "stream",
     "text": [
      "CPU times: user 4.35 ms, sys: 914 µs, total: 5.27 ms\n",
      "Wall time: 12.7 ms\n"
     ]
    }
   ],
   "source": [
    "%%time\n",
    "for _ in range(10):\n",
    "    c = a + 2 * b"
   ]
  },
  {
   "cell_type": "markdown",
   "metadata": {
    "id": "9KVR_aIimFbt"
   },
   "source": [
    "The result is 10 to 15 times (sometimes more) faster, and we could do it in fewer lines of code (and the code itself is more intuitive)! <br>\n",
    "Regular Python is much slower due to type checking and other overhead of needing to interpret code and support Python's abstractions. <br>\n",
    "\n",
    "For example, if we are doing some addition in a loop, constantly type checking in a loop will lead to many more instructions than just performing a regular addition operation. NumPy, using optimized pre-compiled C code, is able to avoid a lot of the overhead introduced.\n",
    "<br>\n",
    "The process we used above is **vectorization**. Vectorization refers to applying operations to arrays instead of just individual elements (i.e. no loops)."
   ]
  },
  {
   "cell_type": "markdown",
   "metadata": {
    "id": "rqSa0JQ6tH0B"
   },
   "source": [
    "In general, list can contain eterogeneous data, while this is not true for numpy array."
   ]
  },
  {
   "cell_type": "code",
   "execution_count": null,
   "metadata": {
    "colab": {
     "base_uri": "https://localhost:8080/"
    },
    "executionInfo": {
     "elapsed": 247,
     "status": "ok",
     "timestamp": 1704188267919,
     "user": {
      "displayName": "Luca Pajola",
      "userId": "01981195232181443728"
     },
     "user_tz": -60
    },
    "id": "9nDUXrirszF0",
    "outputId": "cd540f24-da3e-48d0-d295-b1024f9a4c3b"
   },
   "outputs": [
    {
     "data": {
      "text/plain": [
       "['ciao', 1, True]"
      ]
     },
     "execution_count": 8,
     "metadata": {},
     "output_type": "execute_result"
    }
   ],
   "source": [
    "list_eter = [\"ciao\", 1, True]\n",
    "list_eter"
   ]
  },
  {
   "cell_type": "code",
   "execution_count": null,
   "metadata": {
    "colab": {
     "base_uri": "https://localhost:8080/"
    },
    "executionInfo": {
     "elapsed": 262,
     "status": "ok",
     "timestamp": 1704188270538,
     "user": {
      "displayName": "Luca Pajola",
      "userId": "01981195232181443728"
     },
     "user_tz": -60
    },
    "id": "YCDILQkqs9Ua",
    "outputId": "0c73080a-df00-416a-edc0-a6241e0e46d9"
   },
   "outputs": [
    {
     "data": {
      "text/plain": [
       "array(['ciao', '1', 'True'], dtype='<U21')"
      ]
     },
     "execution_count": 9,
     "metadata": {},
     "output_type": "execute_result"
    }
   ],
   "source": [
    "np.array([\"ciao\", 1, True])"
   ]
  },
  {
   "cell_type": "markdown",
   "metadata": {
    "id": "OoLacSpOmJnp"
   },
   "source": [
    "Why vectorize?\n",
    "1. Much faster\n",
    "2. Easier to read and fewer lines of code\n",
    "3. More closely assembles mathematical notation\n",
    "\n",
    "Vectorization is one of the main reasons why NumPy is so powerful."
   ]
  },
  {
   "cell_type": "markdown",
   "metadata": {
    "id": "VS0G_2g_mOUz"
   },
   "source": [
    "### ndarray\n",
    "\n",
    "ndarrays, n-dimensional arrays of homogenous data type, are the fundamental datatype used in NumPy. As these arrays are of the same type and their size is fixed at creation time, they offer less flexibility than Python lists, but can be substantially more efficient runtime and memory-wise. (Python lists are arrays of pointers to objects, adding a layer of indirection.)\n",
    "\n",
    "The number of dimensions is the rank of the array; the shape of an array is a tuple of integers giving the size of the array along each dimension."
   ]
  },
  {
   "cell_type": "code",
   "execution_count": null,
   "metadata": {
    "colab": {
     "base_uri": "https://localhost:8080/"
    },
    "executionInfo": {
     "elapsed": 281,
     "status": "ok",
     "timestamp": 1704188277036,
     "user": {
      "displayName": "Luca Pajola",
      "userId": "01981195232181443728"
     },
     "user_tz": -60
    },
    "id": "Toi_jrHLmPnL",
    "outputId": "bc9eb8fc-587a-4b11-e085-2407ef1533e6"
   },
   "outputs": [
    {
     "name": "stdout",
     "output_type": "stream",
     "text": [
      "type: <class 'numpy.ndarray'>\n",
      "shape: (3,)\n",
      "a: [1 2 3]\n",
      "a modified: [5 2 3]\n",
      "a copy: [1 2 3]\n",
      "shape: (2, 3)\n",
      "1 2 4\n"
     ]
    }
   ],
   "source": [
    "# Can initialize ndarrays with Python lists, for example:\n",
    "a = np.array([1, 2, 3])   # Create a rank 1 array\n",
    "print('type:', type(a))   # Prints \"<class 'numpy.ndarray'>\"\n",
    "print('shape:', a.shape)  # Prints \"(3,)\"\n",
    "print('a:', a)            # Prints \"1 2 3\"\n",
    "\n",
    "a_cpy= a.copy()\n",
    "a[0] = 5                  # Change an element of the array\n",
    "print('a modified:', a)  # Prints \"[5, 2, 3]\"\n",
    "print('a copy:', a_cpy)\n",
    "\n",
    "b = np.array([[1, 2, 3],\n",
    "              [4, 5, 6]])         # Create a rank 2 array\n",
    "print('shape:', b.shape)          # Prints \"(2, 3)\"\n",
    "print(b[0, 0], b[0, 1], b[1, 0])  # Prints \"1 2 4\""
   ]
  },
  {
   "cell_type": "markdown",
   "metadata": {
    "id": "folYed2pmfEw"
   },
   "source": [
    "There are many other initializations that NumPy provides:"
   ]
  },
  {
   "cell_type": "code",
   "execution_count": null,
   "metadata": {
    "colab": {
     "base_uri": "https://localhost:8080/"
    },
    "executionInfo": {
     "elapsed": 249,
     "status": "ok",
     "timestamp": 1704188279830,
     "user": {
      "displayName": "Luca Pajola",
      "userId": "01981195232181443728"
     },
     "user_tz": -60
    },
    "id": "BgOMILMymfml",
    "outputId": "1b948df0-341c-40c7-ee9d-dd1a52bd3de4"
   },
   "outputs": [
    {
     "name": "stdout",
     "output_type": "stream",
     "text": [
      "[[0. 0.]\n",
      " [0. 0.]]\n",
      "[[7 7]\n",
      " [7 7]]\n",
      "[[1. 0.]\n",
      " [0. 1.]]\n",
      "[[0.04854244 0.99301252]\n",
      " [0.36378405 0.36580678]]\n"
     ]
    }
   ],
   "source": [
    "a = np.zeros((2, 2))   # Create an array of all zeros\n",
    "print(a)               # Prints \"[[ 0.  0.]\n",
    "                       #          [ 0.  0.]]\"\n",
    "\n",
    "b = np.full((2, 2), 7)  # Create a constant array\n",
    "print(b)                # Prints \"[[ 7.  7.]\n",
    "                        #          [ 7.  7.]]\"\n",
    "\n",
    "c = np.eye(2)         # Create a 2 x 2 identity matrix\n",
    "print(c)              # Prints \"[[ 1.  0.]\n",
    "                      #          [ 0.  1.]]\"\n",
    "\n",
    "d = np.random.random((2, 2))  # Create an array filled with random values\n",
    "print(d)                      # Might print \"[[ 0.91940167  0.08143941]\n",
    "                              #               [ 0.68744134  0.87236687]]\""
   ]
  },
  {
   "cell_type": "markdown",
   "metadata": {
    "id": "_eQikHYqmjxi"
   },
   "source": [
    "How do we create a 2 by 2 matrix of ones?"
   ]
  },
  {
   "cell_type": "code",
   "execution_count": null,
   "metadata": {
    "colab": {
     "base_uri": "https://localhost:8080/"
    },
    "executionInfo": {
     "elapsed": 264,
     "status": "ok",
     "timestamp": 1704188284207,
     "user": {
      "displayName": "Luca Pajola",
      "userId": "01981195232181443728"
     },
     "user_tz": -60
    },
    "id": "88bRpUwtmlXN",
    "outputId": "f2a04d3f-7604-4543-ac13-aee4d75b8cc8"
   },
   "outputs": [
    {
     "name": "stdout",
     "output_type": "stream",
     "text": [
      "[[1. 1.]\n",
      " [1. 1.]]\n"
     ]
    }
   ],
   "source": [
    "a = np.ones((2, 2))    # Create an array of all ones\n",
    "print(a)               # Prints \"[[ 1.  1.]\n",
    "                       #          [ 1.  1.]]\""
   ]
  },
  {
   "cell_type": "markdown",
   "metadata": {
    "id": "ZUb_A9_Dmrx0"
   },
   "source": [
    "Sometimes, we need to *reshape* our arrays, i.e., to change its dimension. <br>\n",
    "For example, if we have a one dimension array $x$, where $|x|=8$, we can reshape it in a 2D array (i.e., matrix) with two columns and four rows or, vice-versa, four columns and two rows."
   ]
  },
  {
   "cell_type": "code",
   "execution_count": null,
   "metadata": {
    "colab": {
     "base_uri": "https://localhost:8080/"
    },
    "executionInfo": {
     "elapsed": 251,
     "status": "ok",
     "timestamp": 1704188286790,
     "user": {
      "displayName": "Luca Pajola",
      "userId": "01981195232181443728"
     },
     "user_tz": -60
    },
    "id": "qAxVVp_cmqvU",
    "outputId": "503f5969-ad34-4a8f-ee1a-e79d832ee359"
   },
   "outputs": [
    {
     "name": "stdout",
     "output_type": "stream",
     "text": [
      "[0 1 2 3 4 5 6 7]\n",
      "(8,)\n",
      "nums2:\n",
      " [[0 1 2 3]\n",
      " [4 5 6 7]]\n",
      "nums3:\n",
      " [[0 1]\n",
      " [2 3]\n",
      " [4 5]\n",
      " [6 7]]\n"
     ]
    }
   ],
   "source": [
    "nums = np.arange(8) #create an array [0, 7]\n",
    "print(nums) #see the array\n",
    "print(nums.shape) #see the shape\n",
    "\n",
    "#reshape\n",
    "nums2 = nums.reshape((2, 4)) # 2 rows, 4 columns\n",
    "nums3 = nums.reshape((4, 2)) # 4 rows, 2 columns\n",
    "\n",
    "print(\"nums2:\\n\", nums2)\n",
    "print(\"nums3:\\n\", nums3)"
   ]
  },
  {
   "cell_type": "markdown",
   "metadata": {
    "id": "4XLVq92Qn6Jy"
   },
   "source": [
    "NumPy supports an object-oriented paradigm, such that ndarray has a number of methods and attributes, with functions similar to ones in the outermost NumPy namespace. For example, we can do both:\n"
   ]
  },
  {
   "cell_type": "code",
   "execution_count": null,
   "metadata": {
    "colab": {
     "base_uri": "https://localhost:8080/"
    },
    "executionInfo": {
     "elapsed": 2,
     "status": "ok",
     "timestamp": 1704188289221,
     "user": {
      "displayName": "Luca Pajola",
      "userId": "01981195232181443728"
     },
     "user_tz": -60
    },
    "id": "ApdUWcraoB7h",
    "outputId": "6c3a1abe-71ec-4fa9-e59b-26803a4abfa7"
   },
   "outputs": [
    {
     "name": "stdout",
     "output_type": "stream",
     "text": [
      "[0 1 2 3 4 5 6 7]\n",
      "0\n",
      "0\n",
      "[[0 1]\n",
      " [2 3]\n",
      " [4 5]\n",
      " [6 7]]\n"
     ]
    }
   ],
   "source": [
    "nums = np.arange(8)\n",
    "print(nums)\n",
    "print(nums.min())     # Prints 0\n",
    "print(np.min(nums))   # Prints 0\n",
    "print(np.reshape(nums, (4, 2))) #change how the array looks like"
   ]
  },
  {
   "cell_type": "code",
   "execution_count": null,
   "metadata": {
    "colab": {
     "base_uri": "https://localhost:8080/"
    },
    "executionInfo": {
     "elapsed": 249,
     "status": "ok",
     "timestamp": 1704188292226,
     "user": {
      "displayName": "Luca Pajola",
      "userId": "01981195232181443728"
     },
     "user_tz": -60
    },
    "id": "B1mvmWv_tfvM",
    "outputId": "95ad5869-391d-42da-8f0f-e2637f0e3e15"
   },
   "outputs": [
    {
     "name": "stdout",
     "output_type": "stream",
     "text": [
      "[[1 2]\n",
      " [4 5]]\n",
      "[[1 4]\n",
      " [2 5]]\n",
      "[[-1.66666667  0.66666667]\n",
      " [ 1.33333333 -0.33333333]]\n"
     ]
    }
   ],
   "source": [
    "m = np.array([[1, 2], [4, 5]])\n",
    "print(m)\n",
    "\n",
    "print(m.T)\n",
    "\n",
    "print(np.linalg.inv(m))"
   ]
  },
  {
   "cell_type": "code",
   "execution_count": null,
   "metadata": {
    "colab": {
     "base_uri": "https://localhost:8080/"
    },
    "executionInfo": {
     "elapsed": 258,
     "status": "ok",
     "timestamp": 1704188295037,
     "user": {
      "displayName": "Luca Pajola",
      "userId": "01981195232181443728"
     },
     "user_tz": -60
    },
    "id": "WFwfDyzitX5T",
    "outputId": "393865f5-ebba-46b2-9cff-bf76c054aed1"
   },
   "outputs": [
    {
     "name": "stdout",
     "output_type": "stream",
     "text": [
      "[[1 2]\n",
      " [4 5]]\n",
      "[1 2]\n",
      "[2 5]\n",
      "[3 4]\n"
     ]
    }
   ],
   "source": [
    "#or we can access to only some numbers\n",
    "print(m)\n",
    "print(m[0, :]) #print first row\n",
    "print(m[:, 1]) #print second col\n",
    "\n",
    "n = np.array([1, 2, 3, 4, 5])\n",
    "print(n[2: 4])#print from the 2-nd to the 4-th"
   ]
  },
  {
   "cell_type": "code",
   "execution_count": null,
   "metadata": {
    "colab": {
     "base_uri": "https://localhost:8080/"
    },
    "executionInfo": {
     "elapsed": 2,
     "status": "ok",
     "timestamp": 1704188296955,
     "user": {
      "displayName": "Luca Pajola",
      "userId": "01981195232181443728"
     },
     "user_tz": -60
    },
    "id": "sTW-KgE3ukYP",
    "outputId": "56f8754e-18e9-40a4-971c-0d16793f30cf"
   },
   "outputs": [
    {
     "name": "stdout",
     "output_type": "stream",
     "text": [
      "[[1 2 3]\n",
      " [1 2 3]\n",
      " [1 2 3]]\n",
      "[[1 2 3 1 2 3 1 2 3]]\n"
     ]
    }
   ],
   "source": [
    "#can we stack two arrays together? given two 1D array, we obtain a 2D matrix\n",
    "a = np.array([[1, 2, 3]])\n",
    "b = np.array([[1, 2, 3]])\n",
    "print(np.vstack((a, b, a)))\n",
    "print(np.hstack((a, b, a)))"
   ]
  },
  {
   "cell_type": "markdown",
   "metadata": {
    "id": "qdGpLEd-oSe7"
   },
   "source": [
    "### Array Operations/Math\n",
    "\n",
    "NumPy supports many elementwise operations:"
   ]
  },
  {
   "cell_type": "code",
   "execution_count": null,
   "metadata": {
    "colab": {
     "base_uri": "https://localhost:8080/"
    },
    "executionInfo": {
     "elapsed": 278,
     "status": "ok",
     "timestamp": 1704188300238,
     "user": {
      "displayName": "Luca Pajola",
      "userId": "01981195232181443728"
     },
     "user_tz": -60
    },
    "id": "3qA_xJjGoXmO",
    "outputId": "005ed2e9-bfd1-463d-b127-90b349fcb7f8"
   },
   "outputs": [
    {
     "name": "stdout",
     "output_type": "stream",
     "text": [
      "True\n",
      "True\n",
      "True\n",
      "[[1.         1.41421356]\n",
      " [1.73205081 2.        ]]\n",
      "[[ 1.  4.]\n",
      " [ 9. 16.]]\n",
      "[[ 1.  8.]\n",
      " [27. 64.]]\n"
     ]
    }
   ],
   "source": [
    "#define two matrixes: x and y\n",
    "x = np.array([[1, 2],\n",
    "              [3, 4]], dtype=np.float64)\n",
    "y = np.array([[5, 6],\n",
    "              [7, 8]], dtype=np.float64)\n",
    "\n",
    "# Elementwise sum; both produce the array\n",
    "# [[ 6.0  8.0]\n",
    "#  [10.0 12.0]]\n",
    "#np.array_equal tells us if two np array are equal\n",
    "print(np.array_equal(x + y, np.add(x, y)))\n",
    "\n",
    "# Elementwise difference; both produce the array\n",
    "# [[-4.0 -4.0]\n",
    "#  [-4.0 -4.0]]\n",
    "print(np.array_equal(x - y, np.subtract(x, y)))\n",
    "\n",
    "# Elementwise product; both produce the array\n",
    "# [[ 5.0 12.0]\n",
    "#  [21.0 32.0]]\n",
    "print(np.array_equal(x * y, np.multiply(x, y)))\n",
    "\n",
    "# Elementwise square root; produces the array\n",
    "# [[ 1.          1.41421356]\n",
    "#  [ 1.73205081  2.        ]]\n",
    "print(np.sqrt(x))\n",
    "\n",
    "print(x ** 2)\n",
    "print(x ** 3)"
   ]
  },
  {
   "cell_type": "markdown",
   "metadata": {
    "id": "07AvPaktpMQ9"
   },
   "source": [
    "How do we elementwise divide between two arrays?"
   ]
  },
  {
   "cell_type": "code",
   "execution_count": null,
   "metadata": {
    "colab": {
     "base_uri": "https://localhost:8080/"
    },
    "executionInfo": {
     "elapsed": 241,
     "status": "ok",
     "timestamp": 1704188322095,
     "user": {
      "displayName": "Luca Pajola",
      "userId": "01981195232181443728"
     },
     "user_tz": -60
    },
    "id": "zm8fEpIqpKKB",
    "outputId": "8d9c6b7d-565f-4002-a991-050bb2f44aec"
   },
   "outputs": [
    {
     "name": "stdout",
     "output_type": "stream",
     "text": [
      "[[1. 2.]\n",
      " [3. 4.]]\n",
      "[[5. 6.]\n",
      " [7. 8.]]\n",
      "[[0.2        0.33333333]\n",
      " [0.42857143 0.5       ]]\n",
      "[[0.2        0.33333333]\n",
      " [0.42857143 0.5       ]]\n"
     ]
    }
   ],
   "source": [
    "x = np.array([[1, 2], [3, 4]], dtype=np.float64)\n",
    "y = np.array([[5, 6], [7, 8]], dtype=np.float64)\n",
    "\n",
    "# Elementwise division; both produce the array\n",
    "# [[ 0.2         0.33333333]\n",
    "#  [ 0.42857143  0.5       ]]\n",
    "print(x)\n",
    "print(y)\n",
    "print(x / y)\n",
    "print(np.divide(x, y))"
   ]
  },
  {
   "cell_type": "markdown",
   "metadata": {
    "id": "qqorcz-Apd4J"
   },
   "source": [
    "Note * is elementwise multiplication, not matrix multiplication. We instead use the dot function to compute inner products of vectors, to multiply a vector by a matrix, and to multiply matrices. dot is available both as a function in the numpy module and as an instance method of array objects:"
   ]
  },
  {
   "cell_type": "code",
   "execution_count": null,
   "metadata": {
    "colab": {
     "base_uri": "https://localhost:8080/"
    },
    "executionInfo": {
     "elapsed": 244,
     "status": "ok",
     "timestamp": 1704188326174,
     "user": {
      "displayName": "Luca Pajola",
      "userId": "01981195232181443728"
     },
     "user_tz": -60
    },
    "id": "FU_N_ieJpgKd",
    "outputId": "f0782d02-69f7-4514-ec33-153878aacdf3"
   },
   "outputs": [
    {
     "name": "stdout",
     "output_type": "stream",
     "text": [
      "219\n",
      "219\n",
      "[29 67]\n",
      "[29 67]\n",
      "[[19 22]\n",
      " [43 50]]\n",
      "[[19 22]\n",
      " [43 50]]\n",
      "[[19 22]\n",
      " [43 50]]\n"
     ]
    }
   ],
   "source": [
    "x = np.array([[1, 2], [3, 4]])\n",
    "y = np.array([[5, 6], [7, 8]])\n",
    "\n",
    "v = np.array([9, 10])\n",
    "w = np.array([11, 12])\n",
    "\n",
    "# Inner product of vectors;\n",
    "# (9 * 11) + (10 * 12)\n",
    "# expected dimension? (1, 2) X (2 , 1) --> (1)\n",
    "#both produce 219\n",
    "print(v.dot(w))\n",
    "print(np.dot(v, w))\n",
    "\n",
    "# Matrix / vector product; both produce the rank 1 array [29 67]\n",
    "# expected dimension? (2, 2) x (2, 1) --> (2, 1)\n",
    "# [(1 * 9 + 2 * 10), (3 * 9 + 4 * 10)]\n",
    "print(x.dot(v))\n",
    "print(np.dot(x, v))\n",
    "\n",
    "# Matrix / matrix product; both produce the rank 2 array\n",
    "# [[19 22]\n",
    "#  [43 50]]\n",
    "print(x.dot(y))\n",
    "print(np.dot(x, y))\n",
    "print(x @ y) # @ is another way to do a matrix product"
   ]
  },
  {
   "cell_type": "code",
   "execution_count": null,
   "metadata": {
    "colab": {
     "base_uri": "https://localhost:8080/",
     "height": 210
    },
    "executionInfo": {
     "elapsed": 264,
     "status": "error",
     "timestamp": 1704188331822,
     "user": {
      "displayName": "Luca Pajola",
      "userId": "01981195232181443728"
     },
     "user_tz": -60
    },
    "id": "l0iR1N_EvB1F",
    "outputId": "5887ac01-796a-4c74-f6a8-0de189de737a"
   },
   "outputs": [
    {
     "ename": "ValueError",
     "evalue": "ignored",
     "output_type": "error",
     "traceback": [
      "\u001b[0;31m---------------------------------------------------------------------------\u001b[0m",
      "\u001b[0;31mValueError\u001b[0m                                Traceback (most recent call last)",
      "\u001b[0;32m<ipython-input-21-f3d331d21f0d>\u001b[0m in \u001b[0;36m<cell line: 4>\u001b[0;34m()\u001b[0m\n\u001b[1;32m      2\u001b[0m \u001b[0ma\u001b[0m \u001b[0;34m=\u001b[0m \u001b[0mnp\u001b[0m\u001b[0;34m.\u001b[0m\u001b[0marray\u001b[0m\u001b[0;34m(\u001b[0m\u001b[0;34m[\u001b[0m\u001b[0;34m[\u001b[0m\u001b[0;36m1\u001b[0m\u001b[0;34m,\u001b[0m \u001b[0;36m2\u001b[0m\u001b[0;34m]\u001b[0m\u001b[0;34m,\u001b[0m \u001b[0;34m[\u001b[0m\u001b[0;36m2\u001b[0m\u001b[0;34m,\u001b[0m \u001b[0;36m4\u001b[0m\u001b[0;34m]\u001b[0m\u001b[0;34m]\u001b[0m\u001b[0;34m)\u001b[0m\u001b[0;34m\u001b[0m\u001b[0;34m\u001b[0m\u001b[0m\n\u001b[1;32m      3\u001b[0m \u001b[0mb\u001b[0m \u001b[0;34m=\u001b[0m \u001b[0mnp\u001b[0m\u001b[0;34m.\u001b[0m\u001b[0marray\u001b[0m\u001b[0;34m(\u001b[0m\u001b[0;34m[\u001b[0m\u001b[0;34m[\u001b[0m\u001b[0;36m1\u001b[0m\u001b[0;34m,\u001b[0m \u001b[0;36m2\u001b[0m\u001b[0;34m,\u001b[0m \u001b[0;36m2\u001b[0m\u001b[0;34m,\u001b[0m \u001b[0;36m1\u001b[0m\u001b[0;34m]\u001b[0m\u001b[0;34m,\u001b[0m \u001b[0;34m[\u001b[0m\u001b[0;36m2\u001b[0m\u001b[0;34m,\u001b[0m \u001b[0;36m4\u001b[0m\u001b[0;34m,\u001b[0m \u001b[0;36m2\u001b[0m\u001b[0;34m,\u001b[0m \u001b[0;36m1\u001b[0m\u001b[0;34m]\u001b[0m\u001b[0;34m,\u001b[0m \u001b[0;34m[\u001b[0m\u001b[0;36m2\u001b[0m\u001b[0;34m,\u001b[0m \u001b[0;36m4\u001b[0m\u001b[0;34m,\u001b[0m \u001b[0;36m2\u001b[0m\u001b[0;34m,\u001b[0m \u001b[0;36m1\u001b[0m\u001b[0;34m]\u001b[0m\u001b[0;34m]\u001b[0m\u001b[0;34m)\u001b[0m\u001b[0;34m\u001b[0m\u001b[0;34m\u001b[0m\u001b[0m\n\u001b[0;32m----> 4\u001b[0;31m \u001b[0ma\u001b[0m\u001b[0;34m.\u001b[0m\u001b[0mdot\u001b[0m\u001b[0;34m(\u001b[0m\u001b[0mb\u001b[0m\u001b[0;34m)\u001b[0m\u001b[0;34m\u001b[0m\u001b[0;34m\u001b[0m\u001b[0m\n\u001b[0m",
      "\u001b[0;31mValueError\u001b[0m: shapes (2,2) and (3,4) not aligned: 2 (dim 1) != 3 (dim 0)"
     ]
    }
   ],
   "source": [
    "#we must be careful with matrix products!\n",
    "a = np.array([[1, 2], [2, 4]])\n",
    "b = np.array([[1, 2, 2, 1], [2, 4, 2, 1], [2, 4, 2, 1]])\n",
    "a.dot(b)"
   ]
  },
  {
   "cell_type": "markdown",
   "metadata": {
    "id": "D1BswnDktNHI"
   },
   "source": [
    "There are many useful functions built into NumPy, and often we're able to express them across specific axes of the ndarray:"
   ]
  },
  {
   "cell_type": "code",
   "execution_count": null,
   "metadata": {
    "colab": {
     "base_uri": "https://localhost:8080/"
    },
    "executionInfo": {
     "elapsed": 258,
     "status": "ok",
     "timestamp": 1704188335594,
     "user": {
      "displayName": "Luca Pajola",
      "userId": "01981195232181443728"
     },
     "user_tz": -60
    },
    "id": "a4P3OphItLu1",
    "outputId": "3c06ceec-ff89-4a46-91c1-497ba683fd16"
   },
   "outputs": [
    {
     "name": "stdout",
     "output_type": "stream",
     "text": [
      "[[1 2 3]\n",
      " [4 5 6]] \n",
      "\n",
      "\n",
      "21\n",
      "[5 7 9]\n",
      "[ 6 15]\n",
      "\n",
      "[4 5 6]\n",
      "[3 6]\n"
     ]
    }
   ],
   "source": [
    "x = np.array([[1, 2, 3],\n",
    "              [4, 5, 6]])\n",
    "\n",
    "print(x, \"\\n\\n\")\n",
    "\n",
    "print(np.sum(x))          # Compute sum of all elements; prints \"21\"\n",
    "print(np.sum(x, axis=0))  # Compute sum of each column; prints \"[5 7 9]\"\n",
    "print(np.sum(x, axis=1))  # Compute sum of each row; prints \"[6 15]\"\n",
    "\n",
    "print()\n",
    "\n",
    "print(np.max(x, axis=0))  # Compute max of each column; prints \"[4 5, 6]\"\n",
    "print(np.max(x, axis=1))  # Compute max of each row; prints \"[3 6]\"\n"
   ]
  },
  {
   "cell_type": "markdown",
   "metadata": {
    "id": "MOoj-fz5tmUE"
   },
   "source": [
    "How can we compute the index of the max value of each row? <br>\n",
    "Useful, to say, find the class that corresponds to the maximum score for an input image."
   ]
  },
  {
   "cell_type": "code",
   "execution_count": null,
   "metadata": {
    "colab": {
     "base_uri": "https://localhost:8080/"
    },
    "executionInfo": {
     "elapsed": 288,
     "status": "ok",
     "timestamp": 1704188338409,
     "user": {
      "displayName": "Luca Pajola",
      "userId": "01981195232181443728"
     },
     "user_tz": -60
    },
    "id": "lICfig3Htn0X",
    "outputId": "94b7a74a-06f6-48d7-d203-b3045b578fcb"
   },
   "outputs": [
    {
     "name": "stdout",
     "output_type": "stream",
     "text": [
      "[2 2]\n"
     ]
    }
   ],
   "source": [
    "x = np.array([[1, 2, 3],\n",
    "              [4, 5, 6]])\n",
    "\n",
    "print(np.argmax(x, axis=1)) # Compute index of max of each row; prints \"[2 2]\""
   ]
  },
  {
   "cell_type": "markdown",
   "metadata": {
    "id": "zw7S4qvBtyhz"
   },
   "source": [
    "We can also apply also boolean operators in our ndarray. <br>\n",
    "For example, we might want to find all numbers greater than 5."
   ]
  },
  {
   "cell_type": "code",
   "execution_count": null,
   "metadata": {
    "colab": {
     "base_uri": "https://localhost:8080/"
    },
    "executionInfo": {
     "elapsed": 268,
     "status": "ok",
     "timestamp": 1704188340970,
     "user": {
      "displayName": "Luca Pajola",
      "userId": "01981195232181443728"
     },
     "user_tz": -60
    },
    "id": "No8FYeR_tw6x",
    "outputId": "753a3b76-96ad-4654-de96-f5abadcb1768"
   },
   "outputs": [
    {
     "name": "stdout",
     "output_type": "stream",
     "text": [
      "[False False False  True  True  True False False False]\n",
      "[7 8 9]\n"
     ]
    }
   ],
   "source": [
    "x = np.array([1, 2, 3, 7, 8, 9, 4, 5, 4])\n",
    "print(x > 5) # a list of elementwise comparisons\n",
    "print(x[x > 5]) #we can access our vector elements with boolean indexes"
   ]
  },
  {
   "cell_type": "markdown",
   "metadata": {
    "id": "T5_P7014uhLX"
   },
   "source": [
    "## Part 2: Exercises"
   ]
  },
  {
   "cell_type": "markdown",
   "metadata": {
    "id": "-Uo0SYBgusV0"
   },
   "source": [
    "### Exercise 2.1: Find the minimum\n",
    "\n",
    "As we previously introduced, numpy provides several optimized function to work with ndarrays. In this exercise, we ask you to do the follow:\n",
    "\n",
    "\n",
    "1.   Define a function $f(n)$ that returns a numpy one dimension array of random numbers, where $n$ is the array size of the array.\n",
    "2.   Write a script that sums the values contained in the array. Print the execution time.\n",
    "3.   Use a numpy function that sums the values contained in the array. Print the execution time. Check that the function you wrote in the previous point returns the same value as the numpy function.\n",
    "\n",
    "For the points 2 and 3, execute the sum where $n = 100000$. Compare the execution time of both approaches.\n",
    "\n"
   ]
  },
  {
   "cell_type": "code",
   "execution_count": 4,
   "metadata": {
    "executionInfo": {
     "elapsed": 238,
     "status": "ok",
     "timestamp": 1708951932046,
     "user": {
      "displayName": "Luca Pajola",
      "userId": "01981195232181443728"
     },
     "user_tz": -60
    },
    "id": "11q8jkXgurMY"
   },
   "outputs": [],
   "source": [
    "#\n",
    "# Complete ex 2.1.1 here\n",
    "#\n",
    "\n",
    "#place the following line inside your function, in this way we avoid randomness\n",
    "np.random.seed(123) #<-- this function sets a seed to allow reproducibility. In this way, the \"randomness\" is under our control.\n"
   ]
  },
  {
   "cell_type": "code",
   "execution_count": 5,
   "metadata": {
    "executionInfo": {
     "elapsed": 262,
     "status": "ok",
     "timestamp": 1708951946650,
     "user": {
      "displayName": "Luca Pajola",
      "userId": "01981195232181443728"
     },
     "user_tz": -60
    },
    "id": "FJkhlnLCwUAG"
   },
   "outputs": [],
   "source": [
    "#\n",
    "# Complete ex 2.1.2 here\n",
    "#"
   ]
  },
  {
   "cell_type": "code",
   "execution_count": 6,
   "metadata": {
    "executionInfo": {
     "elapsed": 255,
     "status": "ok",
     "timestamp": 1708951951630,
     "user": {
      "displayName": "Luca Pajola",
      "userId": "01981195232181443728"
     },
     "user_tz": -60
    },
    "id": "JHdh3xrBwbto"
   },
   "outputs": [],
   "source": [
    "#\n",
    "# Complete ex 2.1.3 here\n",
    "#"
   ]
  },
  {
   "cell_type": "markdown",
   "metadata": {
    "id": "gJzR1ZilwpUp"
   },
   "source": [
    "### Exercise 2.2:\n",
    "\n",
    "Write a numpy program to compute the sum of the diagonal element of a given array.\n",
    "\n",
    "We ask you to provide two solutions:\n",
    "\n",
    "\n",
    "1.   Write your own script to solve the problem.\n",
    "2.   Find the one-line solution from the official <a href= \"https://numpy.org/doc/stable/index.html\">numpy</a> documentation. Learning to use the documentation of libraries is fundamental in data science.\n",
    "\n"
   ]
  },
  {
   "cell_type": "code",
   "execution_count": 9,
   "metadata": {
    "executionInfo": {
     "elapsed": 255,
     "status": "ok",
     "timestamp": 1708951979108,
     "user": {
      "displayName": "Luca Pajola",
      "userId": "01981195232181443728"
     },
     "user_tz": -60
    },
    "id": "Txqyts_VxKO2"
   },
   "outputs": [],
   "source": [
    "### define a matrix\n",
    "np.random.seed(123) #<-- this function sets a seed to allow reproducibility. In this way, the \"randomness\" is under our control.\n",
    "m = np.random.random((10, 10)) #create a randomic 10 X 10 matrix\n"
   ]
  },
  {
   "cell_type": "code",
   "execution_count": 7,
   "metadata": {
    "executionInfo": {
     "elapsed": 234,
     "status": "ok",
     "timestamp": 1708951971531,
     "user": {
      "displayName": "Luca Pajola",
      "userId": "01981195232181443728"
     },
     "user_tz": -60
    },
    "id": "4EzAlrRLy-vI"
   },
   "outputs": [],
   "source": [
    "#\n",
    "# Complete ex 2.2.1 here\n",
    "#"
   ]
  },
  {
   "cell_type": "code",
   "execution_count": 8,
   "metadata": {
    "executionInfo": {
     "elapsed": 1,
     "status": "ok",
     "timestamp": 1708951975074,
     "user": {
      "displayName": "Luca Pajola",
      "userId": "01981195232181443728"
     },
     "user_tz": -60
    },
    "id": "XAKZEDQ_zF2o"
   },
   "outputs": [],
   "source": [
    "#\n",
    "# Complete ex 2.2.2 here\n",
    "#"
   ]
  }
 ],
 "metadata": {
  "colab": {
   "provenance": []
  },
  "kernelspec": {
   "display_name": "Python 3",
   "name": "python3"
  },
  "language_info": {
   "name": "python"
  }
 },
 "nbformat": 4,
 "nbformat_minor": 0
}
